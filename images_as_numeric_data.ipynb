{
 "cells": [
  {
   "cell_type": "markdown",
   "id": "faa493cd",
   "metadata": {},
   "source": [
    "# 이미지가 픽셀 그리드다"
   ]
  },
  {
   "cell_type": "code",
   "execution_count": null,
   "id": "aafc2f91",
   "metadata": {},
   "outputs": [],
   "source": [
    "import numpy as np\n",
    "import matplotlib.image as mpimg\n",
    "import matplotlib.pyplot as plt\n",
    "import cv2"
   ]
  }
 ],
 "metadata": {
  "language_info": {
   "name": "python"
  }
 },
 "nbformat": 4,
 "nbformat_minor": 5
}
